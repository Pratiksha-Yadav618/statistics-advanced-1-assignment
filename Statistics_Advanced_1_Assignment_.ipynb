{
  "nbformat": 4,
  "nbformat_minor": 0,
  "metadata": {
    "colab": {
      "provenance": []
    },
    "kernelspec": {
      "name": "python3",
      "display_name": "Python 3"
    },
    "language_info": {
      "name": "python"
    }
  },
  "cells": [
    {
      "cell_type": "markdown",
      "source": [
        "##Statistics Advanced - 1 Assignment"
      ],
      "metadata": {
        "id": "o89FYyqonNSj"
      }
    },
    {
      "cell_type": "markdown",
      "source": [
        "Q1.What is a random variable in probability theory?\n",
        "\n",
        "--> Random Variable (in Probability Theory)\n",
        "\n",
        "A random variable is a variable whose value is determined by the outcome of a random experiment.\n",
        "\n",
        "Instead of being fixed, its value changes depending on chance.\n",
        "\n",
        "It assigns numerical values to outcomes of a probability experiment.\n"
      ],
      "metadata": {
        "id": "bZciP_F8nQVv"
      }
    },
    {
      "cell_type": "markdown",
      "source": [
        "Q2.What are the types of random variables?\n",
        "\n",
        "--> Types of Random Variables\n",
        "\n",
        "In probability theory, random variables are mainly classified into two broad categories:\n",
        "\n",
        "1.Discrete Random Variable\n",
        "\n",
        "Definition: Takes a finite or countably infinite set of distinct values.\n",
        "\n",
        "Examples:\n",
        "\n",
        "    Number of heads in 5 coin tosses - {0, 1, 2, 3, 4, 5}.\n",
        "\n",
        "    Number of students present in a class.\n",
        "\n",
        "    Rolling a dice - outcomes {1, 2, 3, 4, 5, 6}.\n",
        "\n",
        "Probability Distribution: Described using a Probability Mass Function (PMF), which gives the probability of each possible value.\n",
        "\n",
        "2.Continuous Random Variable\n",
        "\n",
        "Definition: Can take any value within an interval of real numbers.\n",
        "\n",
        "Examples:\n",
        "\n",
        "    Time taken to complete a task (2.31 sec, 2.314 sec, etc.).\n",
        "\n",
        "    Height, weight, temperature.\n",
        "\n",
        "    Amount of rainfall in a city on a given day.\n",
        "\n",
        "Probability Distribution: Described using a Probability Density Function (PDF), where probabilities are given over ranges, not single values.\n",
        "\n",
        "\n",
        "Sometimes random variables are further categorized as:\n",
        "\n",
        "Bernoulli Random Variable - only two outcomes (success/failure).\n",
        "\n",
        "Categorical Random Variable - takes values from a fixed set of categories.\n",
        "\n",
        "Mixed Random Variable - has both discrete and continuous components."
      ],
      "metadata": {
        "id": "Y3Rlb1Ug61fu"
      }
    },
    {
      "cell_type": "markdown",
      "source": [
        "Q3.Explain the difference between discrete and continuous distributions.\n",
        "\n",
        "-->\n",
        "####Discrete Distribution\n",
        "\n",
        "Describes the probabilities of a discrete random variable (countable outcomes).\n",
        "\n",
        "How probabilities are assigned: To specific values.\n",
        "\n",
        "Probability function: PMF (Probability Mass Function) -\n",
        "\n",
        "P(X=x)≥0, ∑P(X=x)=1\n",
        "\n",
        "Examples:\n",
        "\n",
        "    Rolling a die (P(X=1)=1/6, etc.).\n",
        "\n",
        "    Number of defective items in a batch.\n",
        "\n",
        "    Number of heads in 5 coin tosses.\n",
        "\n",
        "Common Distributions: Binomial, Poisson, Geometric.\n",
        "\n",
        "####Continuous Distribution\n",
        "\n",
        "Describes the probabilities of a continuous random variable (uncountably infinite outcomes).\n",
        "\n",
        "How probabilities are assigned: To intervals of values, not single points.\n",
        "\n",
        "Probability function: PDF (Probability Density Function) -\n",
        "\n",
        "P(a≤X≤b)= =∫ab​f(x)dx, ∫∞-∞​f(x)dx=1\n",
        "\n",
        "Examples:\n",
        "\n",
        "    Heights of students.\n",
        "\n",
        "    Time taken to run a marathon.\n",
        "\n",
        "    Daily temperature.\n",
        "\n",
        "Common Distributions: Normal, Exponential, Uniform, t-distribution.\n",
        "\n",
        "\n"
      ],
      "metadata": {
        "id": "kCwmOrGB8NoV"
      }
    },
    {
      "cell_type": "markdown",
      "source": [
        "Q4.What is a binomial distribution, and how is it used in probability?\n",
        "\n",
        "-->\n",
        "####Binomial Distribution\n",
        "\n",
        "The binomial distribution is a discrete probability distribution that models the number of successes in a fixed number of independent Bernoulli trials, where each trial has only two possible outcomes:\n",
        "\n",
        "Success (p)\n",
        "\n",
        "Failure (q = 1 - p)\n",
        "\n",
        "\n",
        "Examples\n",
        "\n",
        "Coin Tosses\n",
        "\n",
        "Toss a fair coin 5 times (n=5, 𝑝 = 0.5)\n",
        "\n",
        "Probability of getting exactly 3 heads:\n",
        "\n",
        "P(X=3)=(35​)(0.5)3(0.5)2=10×0.125×0.25=0.3125\n",
        "\n",
        "\n",
        "####Quality Control\n",
        "\n",
        "A factory produces bulbs with a 2% defect rate (p=0.02).\n",
        "\n",
        "If we test 10 bulbs (n = 10), binomial distribution gives the probability of finding exactly 1 defective bulb.\n",
        "\n",
        "####Uses in Probability\n",
        "\n",
        "Modeling yes/no experiments (success/failure).\n",
        "\n",
        "Predicting outcomes in surveys, quality control, genetics, reliability testing, and finance.\n",
        "\n",
        "Approximating real-world situations when outcomes are binary and trials are independent.\n"
      ],
      "metadata": {
        "id": "6B8WALt0-S0X"
      }
    },
    {
      "cell_type": "markdown",
      "source": [
        "Q5.What is the standard normal distribution, and why is it important?\n",
        "\n",
        "-->\n",
        "\n",
        "The standard normal distribution is a special case of the normal distribution (also called the Gaussian distribution).\n",
        "\n",
        "\n",
        "A normal distribution is a symmetric, bell-shaped probability distribution defined by two parameters:\n",
        "\n",
        "Mean (μ) - the center of the distribution\n",
        "\n",
        "Standard deviation (σ) - the spread of the distribution\n",
        "\n",
        "The standard normal distribution is the normal distribution with:\n",
        "\n",
        "Mean μ = 0\n",
        "\n",
        "Standard deviation σ = 1\n",
        "\n",
        "It is often denoted as N(0, 1).\n",
        "\n",
        "Why is it important\n",
        "\n",
        "1.Simplifies calculations\n",
        "\n",
        "Any normal random variable can be converted to the standard normal distribution using the Z-score formula:\n",
        "\n",
        "Z = X - μ​ / σ\n",
        "\n",
        "This standardization makes probability calculations easier.\n",
        "\n",
        "2.Foundation of statistical inference\n",
        "\n",
        "Many statistical methods (like hypothesis testing, confidence intervals, regression analysis) rely on standard normal distribution properties.\n",
        "\n",
        "3.Probability tables\n",
        "\n",
        "Probabilities for normal distributions are tabulated using the standard normal curve (Z-tables). Instead of separate tables for every normal distribution, we standardize and use one universal table.\n",
        "\n",
        "4.Central role in the Central Limit Theorem (CLT)\n",
        "\n",
        "The CLT states that the distribution of sample means tends to follow a normal distribution as the sample size increases. When standardized, these sample means approximate the standard normal distribution, making it crucial in real-world statistics.\n",
        "\n",
        "5.Benchmark for comparison\n",
        "\n",
        "Z-scores allow us to measure how far and in what direction a data point is from the mean in units of standard deviation, making data from different distributions comparable."
      ],
      "metadata": {
        "id": "J7WLi1ToZdS6"
      }
    },
    {
      "cell_type": "markdown",
      "source": [
        "Q6.What is the Central Limit Theorem (CLT), and why is it critical in statistics?\n",
        "\n",
        "-->\n",
        "####Central Limit Theorem (CLT):\n",
        "\n",
        "The Central Limit Theorem is one of the most important results in probability and statistics.\n",
        "\n",
        "It states that:\n",
        "\n",
        "If you take many random samples of size n from any population (with mean μ and finite standard deviation σ), then as n becomes large:\n",
        "\n",
        "    The distribution of the sample means approaches a normal distribution.\n",
        "\n",
        "    This holds true even if the original population is not normally distributed.\n",
        "\n",
        "Formally:\n",
        "\n",
        "¯X ~ N(μ, σ/√n)\n",
        "\n",
        "Where:\n",
        "\n",
        "¯X is the sample mean.\n",
        "\n",
        "N denotes a normal distribution.\n",
        "\n",
        "μ is the population mean.\n",
        "\n",
        "σ is the population standard deviation.\n",
        "\n",
        "n is the sample size.\n",
        "\n",
        "####CLT is critical in statistics\n",
        "\n",
        "1.Justifies using normal distribution in practice\n",
        "\n",
        "Many real-world populations are not normally distributed.\n",
        "\n",
        "Thanks to CLT, we can still assume sample means follow (approximately) a normal distribution if sample size is large enough.\n",
        "\n",
        "2.Foundation for hypothesis testing & confidence intervals\n",
        "\n",
        "Tests like the Z-test, t-test, and ANOVA rely on CLT.\n",
        "\n",
        "It allows us to estimate population parameters (like mean) from sample data.\n",
        "\n",
        "3.Predictable sampling behavior\n",
        "\n",
        "CLT ensures that regardless of the shape of the population distribution, the distribution of the sample mean becomes normal.\n",
        "\n",
        "4.Makes probability calculations possible\n",
        "\n",
        "Using the standard normal distribution (Z-scores), we can calculate probabilities for sample statistics.\n",
        "\n",
        "5.Practical rule of thumb\n",
        "\n",
        "In most cases, a sample size of n ≥ 30 is considered \"large enough\" for the CLT to apply.\n"
      ],
      "metadata": {
        "id": "DcfSNWAiYGtQ"
      }
    },
    {
      "cell_type": "markdown",
      "source": [
        "Q7.What is the significance of confidence intervals in statistical analysis?\n",
        "\n",
        "-->\n",
        "####Confidence Interval (CI)\n",
        "\n",
        "A confidence interval is a range of values, derived from sample data, that is likely to contain the true population parameter (such as the mean, proportion, or difference between means) with a certain level of confidence.\n",
        "\n",
        "For example:\n",
        "A 95% confidence interval for the population mean might be:\n",
        "\n",
        "(45.2,54.8)\n",
        "\n",
        "This means we are 95% confident that the true population mean lies between 45.2 and 54.8.\n",
        "\n",
        "\n",
        "####Significance of Confidence Intervals:\n",
        "\n",
        "1.Accounts for sampling variability\n",
        "\n",
        "    A single sample statistic is only an estimate.\n",
        "\n",
        "    CI provides a range instead of a single number, acknowledging uncertainty.\n",
        "\n",
        "2.Gives precision of estimates\n",
        "\n",
        "    A narrow CI means more precise estimates (less variability).\n",
        "\n",
        "    A wide CI means less precision (more variability).\n",
        "\n",
        "3.More informative than p-values\n",
        "\n",
        "    A p-value only tells you whether an effect is statistically significant.\n",
        "\n",
        "    A confidence interval shows the magnitude of the effect and the uncertainty around it.\n",
        "\n",
        "4.Basis for decision-making\n",
        "\n",
        "    If a confidence interval for a mean difference does not include 0, it suggests a statistically significant difference.\n",
        "\n",
        "    Similarly, if a CI for a proportion does not include a null value (e.g., 0.5), it supports rejecting the null hypothesis.\n",
        "\n",
        "5.Helps in real-world interpretation\n",
        "\n",
        "    Instead of just saying \"the average height is 170 cm,\" we can say,\n",
        "    \"We are 95% confident the true average height is between 168 cm and 172 cm.\"\n",
        "\n",
        "    This gives policymakers, scientists, and business leaders a clearer picture of reliability.\n"
      ],
      "metadata": {
        "id": "53glKkiMai9v"
      }
    },
    {
      "cell_type": "markdown",
      "source": [
        "Q8.What is the concept of expected value in a probability distribution?\n",
        "\n",
        "-->\n",
        "\n",
        "####Expected Value (EV):\n",
        "\n",
        "The expected value of a random variable is the long-run average outcome you would expect if an experiment were repeated many times.\n",
        "\n",
        "It's like the center of gravity of a probability distribution.\n",
        "\n",
        "For a discrete random variable X with possible outcomes x1, x2,...,Xn and probabilities P(xi​)\n",
        "\n",
        "E(X) = Σ [Xᵢ * P(Xᵢ)]\n",
        "\n",
        "For a continuous random variable with probability density function f(x):\n",
        "\n",
        "E(X) = ∫ x * f(x) dx\n",
        "\n",
        "Example:\n",
        "\n",
        "1.Rolling dice\n",
        "\n",
        "2.Lottery ticket\n",
        "\n"
      ],
      "metadata": {
        "id": "5KhbeZxTb6H_"
      }
    },
    {
      "cell_type": "markdown",
      "source": [
        "Q9.Write a Python program to generate 1000 random numbers from a normal\n",
        "distribution with mean = 50 and standard deviation = 5. Compute its mean and standard\n",
        "deviation using NumPy, and draw a histogram to visualize the distribution.\n"
      ],
      "metadata": {
        "id": "Mf2ytTOFd2cU"
      }
    },
    {
      "cell_type": "code",
      "execution_count": 1,
      "metadata": {
        "colab": {
          "base_uri": "https://localhost:8080/",
          "height": 507
        },
        "id": "TkSQnZPTnGCu",
        "outputId": "03ecac7d-384e-4123-a040-ac6b43b40d11"
      },
      "outputs": [
        {
          "output_type": "stream",
          "name": "stdout",
          "text": [
            "Sample Mean: 49.94\n",
            "Sample Standard Deviation: 5.08\n"
          ]
        },
        {
          "output_type": "display_data",
          "data": {
            "text/plain": [
              "<Figure size 640x480 with 1 Axes>"
            ],
            "image/png": "[encoded data removed]"
          },
          "metadata": {}
        }
      ],
      "source": [
        "import numpy as np\n",
        "import matplotlib.pyplot as plt\n",
        "\n",
        "# Generate 1000 random numbers from a normal distribution (mean=50, std=5)\n",
        "data = np.random.normal(loc=50, scale=5, size=1000)\n",
        "\n",
        "# Compute mean and standard deviation\n",
        "mean = np.mean(data)\n",
        "std_dev = np.std(data)\n",
        "\n",
        "print(f\"Sample Mean: {mean:.2f}\")\n",
        "print(f\"Sample Standard Deviation: {std_dev:.2f}\")\n",
        "\n",
        "# Plot histogram\n",
        "plt.hist(data, bins=30, edgecolor='black', alpha=0.7)\n",
        "plt.title(\"Histogram of Normally Distributed Data (μ=50, σ=5)\")\n",
        "plt.xlabel(\"Value\")\n",
        "plt.ylabel(\"Frequency\")\n",
        "plt.show()\n"
      ]
    },
    {
      "cell_type": "markdown",
      "source": [
        "Q10.You are working as a data analyst for a retail company. The company has\n",
        "collected daily sales data for 2 years and wants you to identify the overall sales trend.\n",
        "\n",
        "daily_sales = [220, 245, 210, 265, 230, 250, 260, 275, 240, 255,\n",
        "235, 260, 245, 250, 225, 270, 265, 255, 250, 260]\n",
        "\n",
        "● Explain how you would apply the Central Limit Theorem to estimate the average sales with a 95% confidence interval.\n",
        "\n",
        "● Write the Python code to compute the mean sales and its confidence interval.\n",
        "\n",
        "-->\n",
        "\n",
        "Step 1: Applying the CLT Concept\n",
        "\n",
        "We have sample data (daily_sales), not the full population.\n",
        "\n",
        "By CLT, the sample mean follows an approximately normal distribution, even if sales data are not perfectly normal.\n",
        "\n",
        "The mean of this sampling distribution is the population mean (μ).\n",
        "\n",
        "The standard deviation of the sample mean is called the Standard Error (SE):\n",
        "\n",
        "SE = s/√n\n",
        "\n",
        "where:\n",
        "\n",
        "s is the sample standard deviation, and\n",
        "\n",
        "n is the sample size.\n",
        "\n",
        "A 95% confidence interval (CI) for the mean is given by:\n",
        "\n",
        "xˉ±Z⋅SE\n",
        "\n",
        "with\n",
        "𝑍 = 1.96\n",
        "Z=1.96 for 95% confidence (normal approximation).\n",
        "\n",
        "\n"
      ],
      "metadata": {
        "id": "2VxAgItTeNXp"
      }
    },
    {
      "cell_type": "code",
      "source": [
        "import numpy as np\n",
        "import scipy.stats as st\n",
        "\n",
        "# Sales data\n",
        "daily_sales = [220, 245, 210, 265, 230, 250, 260, 275, 240, 255,\n",
        "               235, 260, 245, 250, 225, 270, 265, 255, 250, 260]\n",
        "\n",
        "# Convert to numpy array\n",
        "data = np.array(daily_sales)\n",
        "\n",
        "# Sample mean and standard deviation\n",
        "mean_sales = np.mean(data)\n",
        "std_sales = np.std(data, ddof=1)  # sample std (ddof=1)\n",
        "n = len(data)\n",
        "\n",
        "# Standard error\n",
        "se = std_sales / np.sqrt(n)\n",
        "\n",
        "# 95% Confidence Interval using CLT (normal approx)\n",
        "confidence = 0.95\n",
        "z = st.norm.ppf(1 - (1 - confidence)/2)  # Z-score for 95% CI ~ 1.96\n",
        "ci_lower = mean_sales - z * se\n",
        "ci_upper = mean_sales + z * se\n",
        "\n",
        "print(f\"Mean Sales: {mean_sales:.2f}\")\n",
        "print(f\"95% Confidence Interval: ({ci_lower:.2f}, {ci_upper:.2f})\")\n"
      ],
      "metadata": {
        "colab": {
          "base_uri": "https://localhost:8080/"
        },
        "id": "dPj0Nmg-ev-F",
        "outputId": "a8f8a30f-9e49-4d4d-c02d-80538f011a28"
      },
      "execution_count": 2,
      "outputs": [
        {
          "output_type": "stream",
          "name": "stdout",
          "text": [
            "Mean Sales: 248.25\n",
            "95% Confidence Interval: (240.68, 255.82)\n"
          ]
        }
      ]
    },
    {
      "cell_type": "markdown",
      "source": [
        "Step 3: Interpretation\n",
        "\n",
        "The sample mean gives the best estimate of average daily sales.\n",
        "\n",
        "The 95% CI tells us the range within which the true average daily sales is likely to lie, with 95% confidence."
      ],
      "metadata": {
        "id": "k4xa9OVIgLwR"
      }
    }
  ]
}